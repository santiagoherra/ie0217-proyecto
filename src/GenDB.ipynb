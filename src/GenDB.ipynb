{
 "cells": [
  {
   "cell_type": "markdown",
   "metadata": {},
   "source": [
    "# Generador de base de datos"
   ]
  },
  {
   "cell_type": "code",
   "execution_count": 1,
   "metadata": {},
   "outputs": [],
   "source": [
    "# Import de librerias necesarias\n",
    "import random\n",
    "import names"
   ]
  },
  {
   "cell_type": "markdown",
   "metadata": {},
   "source": [
    "### Escogencia de parámetros para generar la DB"
   ]
  },
  {
   "cell_type": "code",
   "execution_count": 70,
   "metadata": {},
   "outputs": [],
   "source": [
    "# Numero de clientes\n",
    "N = 10\n",
    "\n",
    "# Numero de clientes con préstamo, debe ser menor a N\n",
    "N_prestamo = 3\n",
    "\n",
    "# Numero de clientes con CDP, debe ser menor a N\n",
    "N_cdps = 4\n",
    "\n",
    "# Fijado de tasas de interes, puede ser una o varias, python va a seleccionar una al azar\n",
    "tasas_cdps = [0.12]\n",
    "tasas_hipotecario = [0.08]\n",
    "tasas_personal = [0.1]\n",
    "tasas_prendarios = [0.15]\n",
    "tasas_cuentas = [0.01]\n",
    "\n",
    "# Arrays usados para definir tipos\n",
    "denominacion = [\"colones\", \"dolares\"]\n",
    "tipo_prestamo = [\"prendario\", \"personal\", \"hipotecario\"]\n",
    "\n",
    "# Montos permitidos\n",
    "prestamo_hipotecario = [60000000]\n",
    "prestamo_prendario = [2000000]\n",
    "prestamo_personal = [5000000]\n",
    "montos_deposito = [1000000]\n",
    "\n",
    "# Plazos permitidos\n",
    "plazos_hipotecario = [60]\n",
    "plazos_prendario = [5]\n",
    "plazos_personal = [12]\n",
    "plazos_cdp = [30]\n",
    "\n",
    "# Tipo de cambio\n",
    "tipo_de_cambio = 512"
   ]
  },
  {
   "cell_type": "markdown",
   "metadata": {},
   "source": [
    "### Generador de numeros de cedula, nombres y apellidos"
   ]
  },
  {
   "cell_type": "code",
   "execution_count": 42,
   "metadata": {},
   "outputs": [
    {
     "name": "stdout",
     "output_type": "stream",
     "text": [
      "[891435200, 949435235, 732194468, 228849575, 813166556, 326823600, 114819158, 456251480, 409975644, 544018749]\n",
      "['Richard', 'Doris', 'Mildred', 'Michael', 'Christopher', 'Effie', 'Jennifer', 'Nathan', 'Edward', 'Lorraine']\n",
      "['Hatcher', 'Tucker', 'Apple', 'Pena', 'Lambert', 'Gibney', 'Vargas', 'Parks', 'Kruger', 'Ryan']\n"
     ]
    }
   ],
   "source": [
    "# numeros de cedula\n",
    "def generar_lista_clientes(cantidad):\n",
    "    clientes_set = set()\n",
    "    while len(clientes_set) < cantidad:\n",
    "        nuevo_cliente = random.randint(100000000, 999999999)\n",
    "        clientes_set.add(nuevo_cliente)\n",
    "    clientes = list(clientes_set)\n",
    "    return clientes\n",
    "\n",
    "clientes = generar_lista_clientes(N)\n",
    "print(clientes)\n",
    "\n",
    "# nombres y apellidos\n",
    "def generar_listas_de_nombres(cantidad):\n",
    "    nombres = [names.get_first_name() for _ in range(cantidad)]\n",
    "    apellidos = [names.get_last_name() for _ in range(cantidad)]\n",
    "    return nombres, apellidos\n",
    "\n",
    "nombres, apellidos = generar_listas_de_nombres(N)\n",
    "print(nombres)\n",
    "print(apellidos)"
   ]
  },
  {
   "cell_type": "markdown",
   "metadata": {},
   "source": [
    "### Escoger clientes con prestamos y cdps"
   ]
  },
  {
   "cell_type": "code",
   "execution_count": 43,
   "metadata": {},
   "outputs": [
    {
     "name": "stdout",
     "output_type": "stream",
     "text": [
      "[0, 0, 0, 0, 0, 1, 0, 1, 1, 0]\n",
      "[0, 0, 1, 0, 0, 0, 1, 0, 0, 1]\n"
     ]
    }
   ],
   "source": [
    "# Genera la lista de clientes con prestamos\n",
    "def generar_lista_prestamos(N, N_prestamo):\n",
    "    lista = [0] * N\n",
    "    suma_actual = 0\n",
    "    \n",
    "    while suma_actual < N_prestamo:\n",
    "        indice = random.randint(0, N - 1)\n",
    "        if lista[indice] < 2:\n",
    "            lista[indice] += 1\n",
    "            suma_actual += 1\n",
    "    \n",
    "    return lista\n",
    "lista_prestamos = generar_lista_prestamos(N, N_prestamo)\n",
    "print(lista_prestamos)\n",
    "# Lo mismo pero para clientes con cdps\n",
    "def generar_lista_cdps(N, N_cdps):\n",
    "    lista = [0] * N\n",
    "    suma_actual = 0\n",
    "    \n",
    "    while suma_actual < N_cdps:\n",
    "        indice = random.randint(0, N - 1)\n",
    "        if lista[indice] < 2:\n",
    "            lista[indice] += 1\n",
    "            suma_actual += 1\n",
    "    \n",
    "    return lista\n",
    "lista_cdps = generar_lista_cdps(N, N_prestamo)\n",
    "print(lista_cdps)"
   ]
  },
  {
   "cell_type": "markdown",
   "metadata": {},
   "source": [
    "### Generador de inserts para la tabla cuentas"
   ]
  },
  {
   "cell_type": "code",
   "execution_count": 44,
   "metadata": {},
   "outputs": [
    {
     "name": "stdout",
     "output_type": "stream",
     "text": [
      "  const char *inserts_sql =     \"INSERT INTO cuentas (numero_cuenta, balance, tasa, denominacion)\"\n",
      "    \"VALUES (1891435200, 87037015.99, 0.01, 'colones');\"\n",
      "    \"INSERT INTO cuentas (numero_cuenta, balance, tasa, denominacion)\"\n",
      "    \"VALUES (2891435200, 85426636.52, 0.01, 'dolares');\"\n",
      "    \"INSERT INTO cuentas (numero_cuenta, balance, tasa, denominacion)\"\n",
      "    \"VALUES (1949435235, 92739879.58, 0.01, 'colones');\"\n",
      "    \"INSERT INTO cuentas (numero_cuenta, balance, tasa, denominacion)\"\n",
      "    \"VALUES (2949435235, 21569505.56, 0.01, 'dolares');\"\n",
      "    \"INSERT INTO cuentas (numero_cuenta, balance, tasa, denominacion)\"\n",
      "    \"VALUES (1732194468, 74430870.91, 0.01, 'colones');\"\n",
      "    \"INSERT INTO cuentas (numero_cuenta, balance, tasa, denominacion)\"\n",
      "    \"VALUES (2732194468, 6279783.57, 0.01, 'dolares');\"\n",
      "    \"INSERT INTO cuentas (numero_cuenta, balance, tasa, denominacion)\"\n",
      "    \"VALUES (1228849575, 70876106.31, 0.01, 'colones');\"\n",
      "    \"INSERT INTO cuentas (numero_cuenta, balance, tasa, denominacion)\"\n",
      "    \"VALUES (2228849575, 24007097.88, 0.01, 'dolares');\"\n",
      "    \"INSERT INTO cuentas (numero_cuenta, balance, tasa, denominacion)\"\n",
      "    \"VALUES (1813166556, 45342690.52, 0.01, 'colones');\"\n",
      "    \"INSERT INTO cuentas (numero_cuenta, balance, tasa, denominacion)\"\n",
      "    \"VALUES (2813166556, 3397091.51, 0.01, 'dolares');\"\n",
      "    \"INSERT INTO cuentas (numero_cuenta, balance, tasa, denominacion)\"\n",
      "    \"VALUES (1326823600, 60747940.15, 0.01, 'colones');\"\n",
      "    \"INSERT INTO cuentas (numero_cuenta, balance, tasa, denominacion)\"\n",
      "    \"VALUES (2326823600, 57409544.21, 0.01, 'dolares');\"\n",
      "    \"INSERT INTO cuentas (numero_cuenta, balance, tasa, denominacion)\"\n",
      "    \"VALUES (1114819158, 39301111.41, 0.01, 'colones');\"\n",
      "    \"INSERT INTO cuentas (numero_cuenta, balance, tasa, denominacion)\"\n",
      "    \"VALUES (2114819158, 44094938.6, 0.01, 'dolares');\"\n",
      "    \"INSERT INTO cuentas (numero_cuenta, balance, tasa, denominacion)\"\n",
      "    \"VALUES (1456251480, 85927372.65, 0.01, 'colones');\"\n",
      "    \"INSERT INTO cuentas (numero_cuenta, balance, tasa, denominacion)\"\n",
      "    \"VALUES (2456251480, 48028733.88, 0.01, 'dolares');\"\n",
      "    \"INSERT INTO cuentas (numero_cuenta, balance, tasa, denominacion)\"\n",
      "    \"VALUES (1409975644, 19080612.1, 0.01, 'colones');\"\n",
      "    \"INSERT INTO cuentas (numero_cuenta, balance, tasa, denominacion)\"\n",
      "    \"VALUES (2409975644, 66519468.19, 0.01, 'dolares');\"\n",
      "    \"INSERT INTO cuentas (numero_cuenta, balance, tasa, denominacion)\"\n",
      "    \"VALUES (1544018749, 97889957.9, 0.01, 'colones');\"\n",
      "    \"INSERT INTO cuentas (numero_cuenta, balance, tasa, denominacion)\"\n",
      "    \"VALUES (2544018749, 47827464.59, 0.01, 'dolares');\"\n",
      " ;\n"
     ]
    }
   ],
   "source": [
    "# Generar los inserts para la tabla cuentas\n",
    "insert_sql = '  const char *inserts_sql = '\n",
    "for cliente in clientes:\n",
    "    for den in denominacion:\n",
    "        numero_cuenta = int(f\"{1 if den == 'colones' else 2}{cliente}\")\n",
    "        balance = round(random.uniform(0, 100000000), 2)\n",
    "        tasa = random.choice(tasas_cuentas)\n",
    "        insert_sql += f'    \"INSERT INTO cuentas (numero_cuenta, balance, tasa, denominacion)\"\\n'\n",
    "        insert_sql += f'    \"VALUES ({numero_cuenta}, {balance}, {tasa}, \\'{den}\\');\"\\n'\n",
    "\n",
    "insert_sql += ' ;'\n",
    "\n",
    "# Imprimir el resultado\n",
    "print(insert_sql)"
   ]
  },
  {
   "cell_type": "markdown",
   "metadata": {},
   "source": [
    "### Generar inserts para tabla clientes"
   ]
  },
  {
   "cell_type": "code",
   "execution_count": 56,
   "metadata": {},
   "outputs": [
    {
     "name": "stdout",
     "output_type": "stream",
     "text": [
      "        \"INSERT INTO clientes (cedula, nombre, apellido, cuenta_colones, cuenta_dolares)\" \n",
      "        \"VALUES (891435200, 'Richard', 'Hatcher', 1891435200, 2891435200);\"\n",
      "        \"INSERT INTO clientes (cedula, nombre, apellido, cuenta_colones, cuenta_dolares)\" \n",
      "        \"VALUES (949435235, 'Doris', 'Tucker', 1949435235, 2949435235);\"\n",
      "        \"INSERT INTO clientes (cedula, nombre, apellido, cuenta_colones, cuenta_dolares)\" \n",
      "        \"VALUES (732194468, 'Mildred', 'Apple', 1732194468, 2732194468);\"\n",
      "        \"INSERT INTO clientes (cedula, nombre, apellido, cuenta_colones, cuenta_dolares)\" \n",
      "        \"VALUES (228849575, 'Michael', 'Pena', 1228849575, 2228849575);\"\n",
      "        \"INSERT INTO clientes (cedula, nombre, apellido, cuenta_colones, cuenta_dolares)\" \n",
      "        \"VALUES (813166556, 'Christopher', 'Lambert', 1813166556, 2813166556);\"\n",
      "        \"INSERT INTO clientes (cedula, nombre, apellido, cuenta_colones, cuenta_dolares)\" \n",
      "        \"VALUES (326823600, 'Effie', 'Gibney', 1326823600, 2326823600);\"\n",
      "        \"INSERT INTO clientes (cedula, nombre, apellido, cuenta_colones, cuenta_dolares)\" \n",
      "        \"VALUES (114819158, 'Jennifer', 'Vargas', 1114819158, 2114819158);\"\n",
      "        \"INSERT INTO clientes (cedula, nombre, apellido, cuenta_colones, cuenta_dolares)\" \n",
      "        \"VALUES (456251480, 'Nathan', 'Parks', 1456251480, 2456251480);\"\n",
      "        \"INSERT INTO clientes (cedula, nombre, apellido, cuenta_colones, cuenta_dolares)\" \n",
      "        \"VALUES (409975644, 'Edward', 'Kruger', 1409975644, 2409975644);\"\n",
      "        \"INSERT INTO clientes (cedula, nombre, apellido, cuenta_colones, cuenta_dolares)\" \n",
      "        \"VALUES (544018749, 'Lorraine', 'Ryan', 1544018749, 2544018749);\"\n"
     ]
    }
   ],
   "source": [
    "# Función para generar los inserts SQL\n",
    "def generar_inserts_clientes(clientes, nombres, apellidos):\n",
    "    inserts_sql = []\n",
    "\n",
    "    for i in range(len(clientes)):\n",
    "        cedula = clientes[i]\n",
    "        nombre = nombres[i]\n",
    "        apellido = apellidos[i]\n",
    "        cuenta_colones = int('1' + str(cedula)) \n",
    "        cuenta_dolares = int('2' + str(cedula))  \n",
    "\n",
    "        insert_sql = (\n",
    "            f'        \"INSERT INTO clientes (cedula, nombre, apellido, cuenta_colones, cuenta_dolares)\" \\n'\n",
    "            f'        \"VALUES ({cedula}, \\'{nombre}\\', \\'{apellido}\\', {cuenta_colones}, {cuenta_dolares});\"'\n",
    "        )\n",
    "        inserts_sql.append(insert_sql)\n",
    "    return inserts_sql\n",
    "\n",
    "inserts_clientes = generar_inserts_clientes(clientes, nombres, apellidos)\n",
    "for insert_sql in inserts_clientes:\n",
    "    print(insert_sql)"
   ]
  },
  {
   "cell_type": "markdown",
   "metadata": {},
   "source": [
    "### Inserts para prestamos"
   ]
  },
  {
   "cell_type": "code",
   "execution_count": 78,
   "metadata": {},
   "outputs": [
    {
     "name": "stdout",
     "output_type": "stream",
     "text": [
      "        \"INSERT INTO prestamos (prestamo_id, denominacion, tipo, monto_total, plazo_meses, cuota_mensual, tasa, cliente_id)\" \n",
      "        \"VALUES (1, 'colones', 'prendario', 2000000, 5, 400000.0, 0.15, 326823600)\"\n",
      "        \"INSERT INTO prestamos (prestamo_id, denominacion, tipo, monto_total, plazo_meses, cuota_mensual, tasa, cliente_id)\" \n",
      "        \"VALUES (2, 'colones', 'personal', 5000000, 10, 416666.67, 0.1, 456251480)\"\n",
      "        \"INSERT INTO prestamos (prestamo_id, denominacion, tipo, monto_total, plazo_meses, cuota_mensual, tasa, cliente_id)\" \n",
      "        \"VALUES (3, 'dolares', 'hipotecario', 117187.5, 13, 1000000.0, 0.08, 409975644)\"\n"
     ]
    }
   ],
   "source": [
    "# Genera inserts para tabla de prestamos\n",
    "def generar_inserts_prestamos(clientes, lista_prestamos, tipo_de_cambio):\n",
    "    inserts_sql = []\n",
    "    prestamo_id = 1\n",
    "\n",
    "    for i in range(len(clientes)):\n",
    "        cedula = clientes[i]\n",
    "        num_prestamos = lista_prestamos[i]\n",
    "\n",
    "        for _ in range(num_prestamos):\n",
    "            denominacion_seleccionada = random.choice(denominacion)\n",
    "            tipo_seleccionado = random.choice(tipo_prestamo)\n",
    "\n",
    "            if tipo_seleccionado == \"prendario\":\n",
    "                monto_total = random.choice(prestamo_prendario)\n",
    "                plazo = random.choice(plazos_prendario)\n",
    "                tasa_prestamo = random.choice(tasas_prendarios)\n",
    "            elif tipo_seleccionado == \"personal\":\n",
    "                monto_total = random.choice(prestamo_personal)\n",
    "                plazo = random.choice(plazos_personal)\n",
    "                tasa_prestamo = random.choice(tasas_personal)\n",
    "            elif tipo_seleccionado == \"hipotecario\":\n",
    "                monto_total = random.choice(prestamo_hipotecario)\n",
    "                plazo = random.choice(plazos_hipotecario)\n",
    "                tasa_prestamo = random.choice(tasas_hipotecario)\n",
    "\n",
    "            cuota_mensual = monto_total / plazo\n",
    "            cuota_mensual = round(cuota_mensual,2)\n",
    "            plazo_meses = random.randint(1, plazo)\n",
    "\n",
    "            if denominacion_seleccionada == \"dolares\":\n",
    "                monto_total /= tipo_de_cambio  \n",
    "                monto_total = round(monto_total,2)\n",
    "\n",
    "            insert_sql = (\n",
    "                f'        \"INSERT INTO prestamos (prestamo_id, denominacion, tipo, monto_total, plazo_meses, cuota_mensual, tasa, cliente_id)\" \\n'\n",
    "                f'        \"VALUES ({prestamo_id}, \\'{denominacion_seleccionada}\\', \\'{tipo_seleccionado}\\', {monto_total}, {plazo_meses}, {cuota_mensual}, {tasa_prestamo}, {cedula});\"'\n",
    "            )\n",
    "            inserts_sql.append(insert_sql)\n",
    "\n",
    "            prestamo_id += 1\n",
    "\n",
    "    return inserts_sql\n",
    "\n",
    "inserts_prestamos = generar_inserts_prestamos(clientes, lista_prestamos, tipo_de_cambio)\n",
    "for insert_sql in inserts_prestamos:\n",
    "    print(insert_sql)"
   ]
  },
  {
   "cell_type": "markdown",
   "metadata": {},
   "source": [
    "### Inserts para cdps"
   ]
  },
  {
   "cell_type": "code",
   "execution_count": 79,
   "metadata": {},
   "outputs": [
    {
     "name": "stdout",
     "output_type": "stream",
     "text": [
      "        \"INSERT INTO certificados_de_deposito (cdp_id, denominacion, tasa, plazo_meses, monto_deposito, cliente_cedula)\" \n",
      "         \"VALUES (1, 'colones', 0.12, 5, 1000000.00, 732194468);\"\n",
      "        \"INSERT INTO certificados_de_deposito (cdp_id, denominacion, tasa, plazo_meses, monto_deposito, cliente_cedula)\" \n",
      "         \"VALUES (2, 'colones', 0.12, 10, 1000000.00, 114819158);\"\n",
      "        \"INSERT INTO certificados_de_deposito (cdp_id, denominacion, tasa, plazo_meses, monto_deposito, cliente_cedula)\" \n",
      "         \"VALUES (3, 'dolares', 0.12, 13, 1953.12, 544018749);\";\n"
     ]
    }
   ],
   "source": [
    "def generar_inserts_certificados_de_deposito(clientes, lista_cdps):\n",
    "    inserts_sql = []\n",
    "    cdp_id = 1\n",
    "\n",
    "    for i in range(len(clientes)):\n",
    "        cedula = clientes[i]\n",
    "        num_cdps = lista_cdps[i]\n",
    "\n",
    "        for _ in range(num_cdps):\n",
    "            denominacion_seleccionada = random.choice(denominacion)\n",
    "            monto_deposito = random.choice(montos_deposito)\n",
    "            plazo = random.choice(plazos_cdp)\n",
    "            plazo_meses = random.randint(1, plazo)\n",
    "\n",
    "            if denominacion_seleccionada == \"dolares\":\n",
    "                monto_deposito /= 512  # Dividir monto deposito por 512 si la denominación es dólares\n",
    "                monto_deposito = round(monto_deposito,2)\n",
    "\n",
    "            insert_sql = (\n",
    "                f'        \"INSERT INTO certificados_de_deposito (cdp_id, denominacion, tasa, plazo_meses, monto_deposito, cliente_cedula)\" \\n '\n",
    "                f'        \"VALUES ({cdp_id}, \\'{denominacion_seleccionada}\\', {random.choice(tasas_cdps)}, {plazo_meses}, {monto_deposito:.2f}, {cedula});\"'\n",
    "            )\n",
    "            inserts_sql.append(insert_sql)\n",
    "\n",
    "            cdp_id += 1\n",
    "    \n",
    "    # Añadir punto y coma al final del último insert\n",
    "    inserts_sql[-1] += ';'\n",
    "\n",
    "    return inserts_sql\n",
    "\n",
    "# Ejemplo de uso\n",
    "inserts_cdps = generar_inserts_certificados_de_deposito(clientes, lista_cdps)\n",
    "for insert_sql in inserts_cdps:\n",
    "    print(insert_sql)"
   ]
  }
 ],
 "metadata": {
  "kernelspec": {
   "display_name": "Python 3",
   "language": "python",
   "name": "python3"
  },
  "language_info": {
   "codemirror_mode": {
    "name": "ipython",
    "version": 3
   },
   "file_extension": ".py",
   "mimetype": "text/x-python",
   "name": "python",
   "nbconvert_exporter": "python",
   "pygments_lexer": "ipython3",
   "version": "3.12.4"
  }
 },
 "nbformat": 4,
 "nbformat_minor": 2
}
